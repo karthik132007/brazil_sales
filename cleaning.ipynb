{
 "cells": [
  {
   "cell_type": "code",
   "execution_count": 1,
   "id": "288c1461",
   "metadata": {},
   "outputs": [],
   "source": [
    "import pandas as pd"
   ]
  },
  {
   "cell_type": "code",
   "execution_count": 78,
   "id": "1b3bf503",
   "metadata": {},
   "outputs": [],
   "source": [
    "# 1. Load CSV files\n",
    "orders = pd.read_csv(\"data\\\\olist_orders_dataset.csv\")\n",
    "items = pd.read_csv(\"data\\\\olist_order_items_dataset.csv\")\n",
    "payments = pd.read_csv(\"data\\\\olist_order_payments_dataset.csv\")\n",
    "customers = pd.read_csv(\"data\\\\olist_customers_dataset.csv\")\n",
    "products = pd.read_csv(\"data\\\\olist_products_dataset.csv\")\n",
    "sellers = pd.read_csv(\"data\\\\olist_sellers_dataset.csv\")\n",
    "reviews = pd.read_csv(\"data\\\\olist_order_reviews_dataset.csv\")\n",
    "\n",
    "# 2. Merge: Orders + Customers\n",
    "master = pd.merge(orders, customers, on=\"customer_id\", how=\"left\")\n",
    "\n",
    "# 3. Merge: Add order_items\n",
    "master = pd.merge(master, items, on=\"order_id\", how=\"left\")\n",
    "\n",
    "# 4. Merge: Add payments\n",
    "master = pd.merge(master, payments, on=\"order_id\", how=\"left\")\n",
    "\n",
    "# 5. Merge: Add products\n",
    "master = pd.merge(master, products, on=\"product_id\", how=\"left\")\n",
    "\n",
    "# 6. Merge: Add sellers\n",
    "master = pd.merge(master, sellers, on=\"seller_id\", how=\"left\")\n",
    "\n",
    "# 7. Merge: Add reviews\n",
    "master = pd.merge(master, reviews, on=\"order_id\", how=\"left\")\n"
   ]
  },
  {
   "cell_type": "code",
   "execution_count": 79,
   "id": "c9258f32",
   "metadata": {},
   "outputs": [],
   "source": [
    "#creating a new clean df with required cols\n",
    "columns_needed = [\n",
    "    'order_id','order_purchase_timestamp','price','freight_value',\n",
    "    'payment_value','payment_type','customer_state','seller_state',\n",
    "    'product_category_name','product_weight_g','product_length_cm',\n",
    "    'product_height_cm','product_width_cm','review_score'\n",
    "]\n",
    "\n",
    "df_clean = master[columns_needed].copy()"
   ]
  },
  {
   "cell_type": "code",
   "execution_count": 80,
   "id": "c8cad90a",
   "metadata": {},
   "outputs": [],
   "source": [
    "# filled nulls in height,weight,length cols\n",
    "df_clean['product_height_cm'] = df_clean['product_height_cm'].fillna(df_clean['product_height_cm'].mean())\n",
    "df_clean['product_width_cm'] = df_clean['product_width_cm'].fillna(df_clean['product_width_cm'].mean())\n",
    "df_clean['product_length_cm'] = df_clean['product_length_cm'].fillna(df_clean['product_length_cm'].mean())\n",
    "# created col volume\n",
    "df_clean['product_volume']=df_clean['product_height_cm']*df_clean['product_width_cm']*df_clean['product_length_cm']\n"
   ]
  },
  {
   "cell_type": "code",
   "execution_count": 81,
   "id": "485f538b",
   "metadata": {},
   "outputs": [],
   "source": [
    "#dropped height,weight,length cols\n",
    "df_clean=df_clean.drop('product_height_cm',axis=1)\n",
    "df_clean=df_clean.drop('product_width_cm',axis=1)\n",
    "df_clean=df_clean.drop('product_length_cm',axis=1)"
   ]
  },
  {
   "cell_type": "code",
   "execution_count": 82,
   "id": "75d1485b",
   "metadata": {},
   "outputs": [],
   "source": [
    "# filled nulls in weigth\n",
    "df_clean['product_weight_g']=df_clean['product_weight_g'].fillna(df_clean['product_weight_g'].mean())"
   ]
  },
  {
   "cell_type": "code",
   "execution_count": 85,
   "id": "8838ec4c",
   "metadata": {},
   "outputs": [],
   "source": [
    "# cfilling nulls\n",
    "df_clean['price']=df_clean['price'].fillna(df_clean['price'].mean())\n",
    "df_clean['payment_value']=df_clean['payment_value'].fillna(df_clean['payment_value'].mean())\n",
    "df_clean['freight_value']=df_clean['freight_value'].fillna(df_clean['freight_value'].mean())\n",
    "df_clean['review_score']=df_clean['review_score'].fillna(df_clean['review_score'].mean())\n",
    "df_clean['product_category_name']=df_clean['product_category_name'].fillna(\"Others\")\n",
    "df_clean['seller_state']=df_clean['seller_state'].fillna(\"Others\")"
   ]
  },
  {
   "cell_type": "code",
   "execution_count": 87,
   "id": "a692699d",
   "metadata": {},
   "outputs": [],
   "source": [
    "state_map = {\n",
    "    'AC': 'Acre',\n",
    "    'AL': 'Alagoas',\n",
    "    'AP': 'Amapá',\n",
    "    'AM': 'Amazonas',\n",
    "    'BA': 'Bahia',\n",
    "    'CE': 'Ceará',\n",
    "    'DF': 'Distrito Federal',\n",
    "    'ES': 'Espírito Santo',\n",
    "    'GO': 'Goiás',\n",
    "    'MA': 'Maranhão',\n",
    "    'MT': 'Mato Grosso',\n",
    "    'MS': 'Mato Grosso do Sul',\n",
    "    'MG': 'Minas Gerais',\n",
    "    'PA': 'Pará',\n",
    "    'PB': 'Paraíba',\n",
    "    'PR': 'Paraná',\n",
    "    'PE': 'Pernambuco',\n",
    "    'PI': 'Piauí',\n",
    "    'RJ': 'Rio de Janeiro',\n",
    "    'RN': 'Rio Grande do Norte',\n",
    "    'RS': 'Rio Grande do Sul',\n",
    "    'RO': 'Rondônia',\n",
    "    'RR': 'Roraima',\n",
    "    'SC': 'Santa Catarina',\n",
    "    'SP': 'São Paulo',\n",
    "    'SE': 'Sergipe',\n",
    "    'TO': 'Tocantins',\n",
    "    'Others': 'Others'  #  filled values\n",
    "}"
   ]
  },
  {
   "cell_type": "code",
   "execution_count": 88,
   "id": "8fc65d40",
   "metadata": {},
   "outputs": [],
   "source": [
    "#df_clean['seller_state']=df_clean['seller_state'].map(state_map)\n",
    "df_clean['customer_state']=df_clean['customer_state'].map(state_map)"
   ]
  },
  {
   "cell_type": "code",
   "execution_count": 90,
   "id": "f31a9524",
   "metadata": {},
   "outputs": [],
   "source": [
    "df_clean['seller_state']=df_clean['seller_state'].map(state_map)"
   ]
  },
  {
   "cell_type": "code",
   "execution_count": 92,
   "id": "883de763",
   "metadata": {},
   "outputs": [],
   "source": [
    "df_clean['review_score']=df_clean['review_score'].astype(int)"
   ]
  },
  {
   "cell_type": "code",
   "execution_count": null,
   "id": "c056b745",
   "metadata": {},
   "outputs": [],
   "source": [
    "# created review review_category\n",
    "def categorize(scr):\n",
    "    if scr in [0,1,2]:\n",
    "        return \"Bad\"\n",
    "    elif scr==3:\n",
    "        return \"Average\"\n",
    "    else:\n",
    "        return \"Good\"\n",
    "\n",
    "df_clean['review_category']=df_clean['review_score'].apply(categorize)"
   ]
  },
  {
   "cell_type": "code",
   "execution_count": 96,
   "id": "2ac319a6",
   "metadata": {},
   "outputs": [],
   "source": [
    "df_clean.to_csv('cleaned.csv',index=False)"
   ]
  }
 ],
 "metadata": {
  "kernelspec": {
   "display_name": "Python 3",
   "language": "python",
   "name": "python3"
  },
  "language_info": {
   "codemirror_mode": {
    "name": "ipython",
    "version": 3
   },
   "file_extension": ".py",
   "mimetype": "text/x-python",
   "name": "python",
   "nbconvert_exporter": "python",
   "pygments_lexer": "ipython3",
   "version": "3.12.4"
  }
 },
 "nbformat": 4,
 "nbformat_minor": 5
}
